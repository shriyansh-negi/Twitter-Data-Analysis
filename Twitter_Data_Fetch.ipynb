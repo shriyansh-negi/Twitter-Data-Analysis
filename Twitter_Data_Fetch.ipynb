{
 "cells": [
  {
   "cell_type": "code",
   "execution_count": 3,
   "metadata": {},
   "outputs": [],
   "source": [
    "import tweepy\n",
    "from tweepy import Stream \n",
    "from tweepy import OAuthHandler\n",
    "from tweepy import StreamListener\n"
   ]
  },
  {
   "cell_type": "code",
   "execution_count": 4,
   "metadata": {},
   "outputs": [],
   "source": [
    "consumer_key = \"njtvNg0KHiRwi9E1KXpDAJlpS\"\n",
    "consumer_secret = \"sg7dDWWGytmAOCX4Dr6hyYZ0dsSqDiinzZwaj5v012d0cAxgQz\"\n",
    "access_token = \"1034315062088003584-65LIPgvaArzgwmYmMoedZwjf76t1DN\"\n",
    "access_key = \"yJj6eJfvEmc0HwQx0gUu1887AxZIGgUMQGMs9iyra1e9A\""
   ]
  },
  {
   "cell_type": "code",
   "execution_count": 5,
   "metadata": {},
   "outputs": [],
   "source": [
    "class Data_Fetch(StreamListener):\n",
    "    def on_data(self,tweets):\n",
    "        f = open(\"tweets.json\",\"a\")\n",
    "        f.write(tweets)\n",
    "        f.close()\n",
    "        return True \n",
    "    def on_error(self,err):\n",
    "        print(err)\n",
    "        return True"
   ]
  },
  {
   "cell_type": "code",
   "execution_count": null,
   "metadata": {},
   "outputs": [],
   "source": [
    "myobj = Data_Fetch()\n",
    "\n",
    "auth = OAuthHandler(consumer_key,consumer_secret)\n",
    "auth.set_access_token(access_token,access_key)\n",
    "\n",
    "stream = Stream(auth,myobj)\n",
    "\n",
    "stream.filter(track=[\"cricket\"])"
   ]
  },
  {
   "cell_type": "code",
   "execution_count": 1,
   "metadata": {},
   "outputs": [],
   "source": [
    "fp = open(\"tweets.json\")\n",
    "\n",
    "one = fp.readline()"
   ]
  },
  {
   "cell_type": "code",
   "execution_count": 4,
   "metadata": {},
   "outputs": [],
   "source": [
    "import json \n",
    "\n",
    "\n",
    "data = json.loads(one)"
   ]
  },
  {
   "cell_type": "code",
   "execution_count": 5,
   "metadata": {},
   "outputs": [
    {
     "name": "stdout",
     "output_type": "stream",
     "text": [
      "<class 'dict'>\n"
     ]
    }
   ],
   "source": [
    "print(type(data))"
   ]
  },
  {
   "cell_type": "code",
   "execution_count": 7,
   "metadata": {},
   "outputs": [
    {
     "name": "stdout",
     "output_type": "stream",
     "text": [
      "created_at\n",
      "id\n",
      "id_str\n",
      "text\n",
      "display_text_range\n",
      "source\n",
      "truncated\n",
      "in_reply_to_status_id\n",
      "in_reply_to_status_id_str\n",
      "in_reply_to_user_id\n",
      "in_reply_to_user_id_str\n",
      "in_reply_to_screen_name\n",
      "user\n",
      "geo\n",
      "coordinates\n",
      "place\n",
      "contributors\n",
      "is_quote_status\n",
      "extended_tweet\n",
      "quote_count\n",
      "reply_count\n",
      "retweet_count\n",
      "favorite_count\n",
      "entities\n",
      "favorited\n",
      "retweeted\n",
      "filter_level\n",
      "lang\n",
      "timestamp_ms\n"
     ]
    }
   ],
   "source": [
    "print(*data.keys(),sep=\"\\n\")"
   ]
  },
  {
   "cell_type": "code",
   "execution_count": 8,
   "metadata": {},
   "outputs": [
    {
     "data": {
      "text/plain": [
       "'in'"
      ]
     },
     "execution_count": 8,
     "metadata": {},
     "output_type": "execute_result"
    }
   ],
   "source": [
    "data['lang']"
   ]
  },
  {
   "cell_type": "code",
   "execution_count": 9,
   "metadata": {},
   "outputs": [
    {
     "data": {
      "text/plain": [
       "'@ZAbbasOfficial @TheRealPCB @babarazam258 @iShaheenAfridi @76Shadabkhan @SarfarazA_54 Pcb itny paisy leke team nahi… https://t.co/iz39gXD3Kc'"
      ]
     },
     "execution_count": 9,
     "metadata": {},
     "output_type": "execute_result"
    }
   ],
   "source": [
    "data['text']"
   ]
  },
  {
   "cell_type": "code",
   "execution_count": 10,
   "metadata": {},
   "outputs": [],
   "source": [
    "data['place']"
   ]
  },
  {
   "cell_type": "code",
   "execution_count": 12,
   "metadata": {},
   "outputs": [
    {
     "data": {
      "text/plain": [
       "'muhmmad  adil khan'"
      ]
     },
     "execution_count": 12,
     "metadata": {},
     "output_type": "execute_result"
    }
   ],
   "source": [
    "data['user']['name']"
   ]
  },
  {
   "cell_type": "code",
   "execution_count": 13,
   "metadata": {},
   "outputs": [],
   "source": [
    "fp.seek(0)\n",
    "tweets = []\n",
    "\n",
    "for line in fp  : \n",
    "    try : \n",
    "        text = json.loads(line)\n",
    "        tweets.append(text)\n",
    "    except Exception as e : \n",
    "        continue \n",
    "else : \n",
    "    fp.close()"
   ]
  },
  {
   "cell_type": "code",
   "execution_count": 14,
   "metadata": {},
   "outputs": [
    {
     "data": {
      "text/plain": [
       "1491"
      ]
     },
     "execution_count": 14,
     "metadata": {},
     "output_type": "execute_result"
    }
   ],
   "source": [
    "len(tweets)"
   ]
  },
  {
   "cell_type": "code",
   "execution_count": 16,
   "metadata": {},
   "outputs": [],
   "source": [
    "for t in tweets : \n",
    "    if t['place'] : \n",
    "        data = t\n",
    "        break"
   ]
  },
  {
   "cell_type": "code",
   "execution_count": 19,
   "metadata": {},
   "outputs": [
    {
     "data": {
      "text/plain": [
       "'India'"
      ]
     },
     "execution_count": 19,
     "metadata": {},
     "output_type": "execute_result"
    }
   ],
   "source": [
    "t['place']['country']"
   ]
  },
  {
   "cell_type": "code",
   "execution_count": 20,
   "metadata": {},
   "outputs": [
    {
     "data": {
      "text/plain": [
       "'My favourite player ..'"
      ]
     },
     "execution_count": 20,
     "metadata": {},
     "output_type": "execute_result"
    }
   ],
   "source": [
    "t['text']"
   ]
  },
  {
   "cell_type": "code",
   "execution_count": 23,
   "metadata": {},
   "outputs": [],
   "source": [
    "c = 0\n",
    "india = []\n",
    "for tweet in tweets : \n",
    "    if tweet['place'] and tweet['place']['country'] == \"India\" : \n",
    "        india.append(tweet)\n",
    "        c += 1"
   ]
  },
  {
   "cell_type": "code",
   "execution_count": 24,
   "metadata": {},
   "outputs": [
    {
     "data": {
      "text/plain": [
       "9"
      ]
     },
     "execution_count": 24,
     "metadata": {},
     "output_type": "execute_result"
    }
   ],
   "source": [
    "c"
   ]
  },
  {
   "cell_type": "code",
   "execution_count": 26,
   "metadata": {},
   "outputs": [
    {
     "name": "stdout",
     "output_type": "stream",
     "text": [
      "My favourite player .. \n",
      "\n",
      "\n",
      "📆July 2019\n",
      "🏏PAK v BAN, Match 43\n",
      "BAN 221 (44.1)\n",
      "PAK 315-9 (50)\n",
      "Pakistan won by 94 runs\n",
      "✡️4 teams in Semifinals - Ind… https://t.co/NVmhdGXvOE \n",
      "\n",
      "\n",
      "EA Cricket, Real Cricket, WCC2 games : Lol, Rofl, Lmao \n",
      "\n",
      "\n",
      "@ashwinravi99 @DjokerNole Bhai cricket nahi dekh rahe ho kya? \n",
      "\n",
      "\n",
      "@anasali87449582 @iramizraja MC BC, bhag jao salo tum kya khelo ge World cup, Gully cricket ke layak nahi ho Haram Khurrr.. \n",
      "\n",
      "\n",
      "@AmitSha77461530 @ImranKhanPTI Beta tum log to sirf jehadis paida kiya hai- kt mullah, to cricket match kahan se kh… https://t.co/HNHhhfCVhO \n",
      "\n",
      "\n",
      "Superb 👌 \n",
      "\n",
      "\n",
      "#India Vs #Srilanka\n",
      "Who will be the winner today? #ContestAlert\n",
      "A. India\n",
      "B. SriLanka\n",
      "\n",
      "Follow @shopper_mb #Cricket W… https://t.co/Cb8T2lW09m \n",
      "\n",
      "\n",
      "♥️♥️♥️ \n",
      "\n",
      "\n"
     ]
    }
   ],
   "source": [
    "for tweet in india : \n",
    "    print(tweet['text'],\"\\n\\n\")"
   ]
  },
  {
   "cell_type": "code",
   "execution_count": 27,
   "metadata": {},
   "outputs": [],
   "source": [
    "import pandas as pd "
   ]
  },
  {
   "cell_type": "code",
   "execution_count": 28,
   "metadata": {},
   "outputs": [],
   "source": [
    "df = pd.DataFrame()"
   ]
  },
  {
   "cell_type": "code",
   "execution_count": 29,
   "metadata": {},
   "outputs": [
    {
     "data": {
      "text/html": [
       "<div>\n",
       "<style scoped>\n",
       "    .dataframe tbody tr th:only-of-type {\n",
       "        vertical-align: middle;\n",
       "    }\n",
       "\n",
       "    .dataframe tbody tr th {\n",
       "        vertical-align: top;\n",
       "    }\n",
       "\n",
       "    .dataframe thead th {\n",
       "        text-align: right;\n",
       "    }\n",
       "</style>\n",
       "<table border=\"1\" class=\"dataframe\">\n",
       "  <thead>\n",
       "    <tr style=\"text-align: right;\">\n",
       "      <th></th>\n",
       "    </tr>\n",
       "  </thead>\n",
       "  <tbody>\n",
       "  </tbody>\n",
       "</table>\n",
       "</div>"
      ],
      "text/plain": [
       "Empty DataFrame\n",
       "Columns: []\n",
       "Index: []"
      ]
     },
     "execution_count": 29,
     "metadata": {},
     "output_type": "execute_result"
    }
   ],
   "source": [
    "df"
   ]
  },
  {
   "cell_type": "code",
   "execution_count": 32,
   "metadata": {},
   "outputs": [
    {
     "name": "stdout",
     "output_type": "stream",
     "text": [
      "created_at\n",
      "id\n",
      "id_str\n",
      "text\n",
      "source\n",
      "truncated\n",
      "in_reply_to_status_id\n",
      "in_reply_to_status_id_str\n",
      "in_reply_to_user_id\n",
      "in_reply_to_user_id_str\n",
      "in_reply_to_screen_name\n",
      "user\n",
      "geo\n",
      "coordinates\n",
      "place\n",
      "contributors\n",
      "quoted_status_id\n",
      "quoted_status_id_str\n",
      "quoted_status\n",
      "quoted_status_permalink\n",
      "is_quote_status\n",
      "quote_count\n",
      "reply_count\n",
      "retweet_count\n",
      "favorite_count\n",
      "entities\n",
      "favorited\n",
      "retweeted\n",
      "filter_level\n",
      "lang\n",
      "timestamp_ms\n"
     ]
    }
   ],
   "source": [
    "print(*data.keys(),sep=\"\\n\")"
   ]
  },
  {
   "cell_type": "code",
   "execution_count": 42,
   "metadata": {},
   "outputs": [
    {
     "data": {
      "text/plain": [
       "['My', 'favourite', 'player', '..']"
      ]
     },
     "execution_count": 42,
     "metadata": {},
     "output_type": "execute_result"
    }
   ],
   "source": [
    "data['text'].split()"
   ]
  },
  {
   "cell_type": "code",
   "execution_count": 39,
   "metadata": {},
   "outputs": [],
   "source": [
    "df[\"text\"] = list(map(lambda tweet:tweet['text'],tweets))"
   ]
  },
  {
   "cell_type": "code",
   "execution_count": 53,
   "metadata": {},
   "outputs": [],
   "source": [
    "t = tweets[17]"
   ]
  },
  {
   "cell_type": "code",
   "execution_count": 58,
   "metadata": {},
   "outputs": [
    {
     "data": {
      "text/plain": [
       "[]"
      ]
     },
     "execution_count": 58,
     "metadata": {},
     "output_type": "execute_result"
    }
   ],
   "source": [
    "list(filter(lambda tag : tag if \"#\" in tag else None, t['text'].split()))"
   ]
  },
  {
   "cell_type": "code",
   "execution_count": 60,
   "metadata": {},
   "outputs": [],
   "source": [
    "def tag(tweets):\n",
    "    count = {}\n",
    "    for tweet in tweets : \n",
    "        text = tweet['text']\n",
    "        text = text.split( )\n",
    "        for tag in text : \n",
    "            if \"#\" in tag :\n",
    "                    if tag in count : \n",
    "                        count[tag] += 1\n",
    "                    else : \n",
    "                        count[tag] = 1\n",
    "    return count\n",
    "    \n",
    "                "
   ]
  },
  {
   "cell_type": "code",
   "execution_count": 62,
   "metadata": {},
   "outputs": [],
   "source": [
    "tags = pd.Series(tag(tweets))"
   ]
  },
  {
   "cell_type": "code",
   "execution_count": 63,
   "metadata": {},
   "outputs": [
    {
     "data": {
      "text/plain": [
       "#Ashes                  1\n",
       "#Dhoni                 11\n",
       "#CWC19                 19\n",
       "#INDvSL                17\n",
       "#ICCCricketWorldCup     1\n",
       "dtype: int64"
      ]
     },
     "execution_count": 63,
     "metadata": {},
     "output_type": "execute_result"
    }
   ],
   "source": [
    "tags.head()"
   ]
  },
  {
   "cell_type": "code",
   "execution_count": 67,
   "metadata": {},
   "outputs": [
    {
     "data": {
      "text/plain": [
       "<matplotlib.axes._subplots.AxesSubplot at 0x282df8aef60>"
      ]
     },
     "execution_count": 67,
     "metadata": {},
     "output_type": "execute_result"
    },
    {
     "data": {
      "image/png": "[encoded data removed]",
      "text/plain": [
       "<Figure size 432x288 with 1 Axes>"
      ]
     },
     "metadata": {
      "needs_background": "light"
     },
     "output_type": "display_data"
    }
   ],
   "source": [
    "\n",
    "tags.sort_values(ascending=False)[:20].plot(kind='bar')"
   ]
  },
  {
   "cell_type": "code",
   "execution_count": null,
   "metadata": {},
   "outputs": [],
   "source": [
    "def country(tweets):\n",
    "    count = {}\n",
    "    for tweet in tweets : \n",
    "        text = tweet['place']\n",
    "        text = text.split( )\n",
    "        for tag in text : \n",
    "            if \"#\" in tag :\n",
    "                    if tag in count : \n",
    "                        count[tag] += 1\n",
    "                    else : \n",
    "                        count[tag] = 1\n",
    "    return count\n",
    "    \n",
    "                "
   ]
  }
 ],
 "metadata": {
  "kernelspec": {
   "display_name": "Python 3",
   "language": "python",
   "name": "python3"
  },
  "language_info": {
   "codemirror_mode": {
    "name": "ipython",
    "version": 3
   },
   "file_extension": ".py",
   "mimetype": "text/x-python",
   "name": "python",
   "nbconvert_exporter": "python",
   "pygments_lexer": "ipython3",
   "version": "3.7.3"
  }
 },
 "nbformat": 4,
 "nbformat_minor": 2
}
